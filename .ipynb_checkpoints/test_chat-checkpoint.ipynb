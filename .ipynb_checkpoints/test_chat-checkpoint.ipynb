{
 "cells": [
  {
   "cell_type": "code",
   "execution_count": 1,
   "id": "b285baf0",
   "metadata": {},
   "outputs": [],
   "source": [
    "# Import necessary libraries\n",
    "import pandas as pd\n",
    "import os\n",
    "import random\n",
    "from IPython.display import display, HTML\n",
    "import ipywidgets as widgets\n"
   ]
  },
  {
   "cell_type": "code",
   "execution_count": 2,
   "id": "f799e10d",
   "metadata": {},
   "outputs": [],
   "source": [
    "# ========================== DATA ==========================\n",
    "\n",
    "# Masters Plan-inspired swim workouts\n",
    "warm_ups = [\n",
    "    \"400 Choice\", \"300 Loosen\", \"4x100 Kick Pink4 @2.15\", \"2x150 Body Position Kick w/Fins & Snorkel\",\n",
    "    \"6x50 Drill with Fins @60\", \"2x200 as 50 Kick/50 Drill/50 Swim/50 DPS\", \"8x50 Descend 1-4 @60\"\n",
    "]\n",
    "\n",
    "drills = [\n",
    "    \"4x50 Power CU\", \"2x100 PERFECT w/Choice Equipment\", \"4x50 Rev & Connect\",\n",
    "    \"2x100 DPS Swim w/Fins & Snorkel\", \"4x25 Catch & Connect\", \"6x50 Single Arm Drill @70\",\n",
    "    \"4x100 IM Technique Focus @2:00\"\n",
    "]\n",
    "\n",
    "main_sets = [\n",
    "    \"3x100 as 25 Scull/75 Pull w/Snorkel\", \"20x25 Free White3 @45 — Race Starts & Streamline\",\n",
    "    \"4x75 Descend Pink4 → Purple10\", \"10x50 Stroke Count & Time w/Fins & Paddles @1.15\",\n",
    "    \"5x100 IM Descend 1-5 White3 → Red6\", \"10x100 Aerobic Pace @1:45\", \"6x200 Free Paddles & Snorkel White3 @4:00\"\n",
    "]\n",
    "\n",
    "speed_work = [\n",
    "    \"6x25 Green MAX Effort @1.30\", \"8x15 Green from Surface Push @60\", \"4x50 Sprint Free @2.00 — No breath last 5m\",\n",
    "    \"12x25 100 Race Pace (Purple10) @45\", \"10x50 as 25 Fly Swim/25 Underwater Kick\",\n",
    "    \"8x25 No Breath Sprints @45\", \"5x50 Dive Starts @2:00\"\n",
    "]\n",
    "\n",
    "swim_down = [\n",
    "    \"200 EZ Choice\", \"100 Social Kick\", \"4x100 Back Swim White3 @2\", \"8x50 Descend Second 25 1-4 and 5-8\",\n",
    "    \"400 EZ Kick\", \"300 IM Swim Down\", \"200 EZ Pull with Paddles\"\n",
    "]\n",
    "\n",
    "# Dryland training exercises\n",
    "dryland_exercises = {\n",
    "    \"strength\": [\"3x12 Push-Ups\", \"3x15 Squats\", \"3x10 Pull-Ups\", \"3x20 Lunges\"],\n",
    "    \"core\": [\"3x1 min Plank\", \"3x30s Russian Twists\", \"3x20 Leg Raises\", \"3x15 V-Ups\"],\n",
    "    \"mobility\": [\"3x15 Arm Circles\", \"3x12 Shoulder Stretch\", \"3x20 Hip Openers\", \"3x30s Hamstring Stretch\"]\n",
    "}\n",
    "\n",
    "# Injury advice knowledge base\n",
    "injury_knowledge = {\n",
    "    \"shoulder pain\": \"Try shoulder mobility exercises and rest. Ice packs can reduce inflammation.\",\n",
    "    \"knee pain\": \"Avoid excessive breaststroke kicks. Strengthen quadriceps and hamstrings.\",\n",
    "    \"muscle cramps\": \"Hydrate well and stretch before and after swimming.\"\n",
    "}\n"
   ]
  },
  {
   "cell_type": "code",
   "execution_count": 3,
   "id": "8bef4379",
   "metadata": {},
   "outputs": [],
   "source": [
    "## ========================== FUNCTIONS =========================="
   ]
  },
  {
   "cell_type": "code",
   "execution_count": 4,
   "id": "e6a44fa1",
   "metadata": {},
   "outputs": [],
   "source": [
    "def generate_swim_workout(style: str, duration: int, intensity: str) -> str:\n",
    "    \"\"\"Creates a structured swimming workout inspired by the Masters Plan.\"\"\"\n",
    "    workout = f\"<b>🏊 {style.capitalize()} Workout ({duration} min, {intensity} intensity)</b><br>\"\n",
    "    workout += f\"🔹 <b>Warm-up:</b> {random.choice(warm_ups)}<br>\"\n",
    "    workout += f\"🔹 <b>Drills:</b> {random.choice(drills)}<br>\"\n",
    "    workout += f\"🔹 <b>Main Set:</b> {random.choice(main_sets)}<br>\"\n",
    "    workout += f\"🔹 <b>Speed Work:</b> {random.choice(speed_work)}<br>\"\n",
    "    workout += f\"🔹 <b>Swim Down:</b> {random.choice(swim_down)}<br>\"\n",
    "    return workout"
   ]
  },
  {
   "cell_type": "code",
   "execution_count": 5,
   "id": "cc307dd2",
   "metadata": {},
   "outputs": [],
   "source": [
    "def generate_dryland_workout(focus: str) -> str:\n",
    "    \"\"\"Creates a dryland training workout focused on strength, core, or mobility.\"\"\"\n",
    "    exercises = dryland_exercises.get(focus.lower(), [\"Focus not recognized. Choose 'strength', 'core', or 'mobility'.\"])\n",
    "    return f\"<b>💪 Dryland {focus.capitalize()} Workout:</b><br>\" + \"<br>\".join(exercises)"
   ]
  },
  {
   "cell_type": "code",
   "execution_count": 6,
   "id": "ae5ccc81",
   "metadata": {},
   "outputs": [],
   "source": [
    "def analyze_pace(lap_times: list) -> str:\n",
    "    \"\"\"Analyzes swimmer's pace based on lap times and provides feedback.\"\"\"\n",
    "    avg_pace = sum(lap_times) / len(lap_times)\n",
    "    if avg_pace < 30:\n",
    "        return f\"Your average pace is {avg_pace:.2f} sec/lap. Great speed! 🥇\"\n",
    "    elif avg_pace < 40:\n",
    "        return f\"Your average pace is {avg_pace:.2f} sec/lap. Maintain consistency for better endurance. 🏊\"\n",
    "    else:\n",
    "        return f\"Your average pace is {avg_pace:.2f} sec/lap. Work on speed drills to improve performance. 🏋️‍♂️\""
   ]
  },
  {
   "cell_type": "code",
   "execution_count": 7,
   "id": "0862e8e0",
   "metadata": {},
   "outputs": [],
   "source": [
    "def injury_advice(injury: str) -> str:\n",
    "    \"\"\"Provides advice on common swimming injuries and recovery.\"\"\"\n",
    "    return injury_knowledge.get(injury.lower(), \"Consult a physiotherapist for detailed guidance.\")\n"
   ]
  },
  {
   "cell_type": "code",
   "execution_count": 8,
   "id": "cd079622",
   "metadata": {},
   "outputs": [],
   "source": [
    "def save_feedback(question: str, answer: str):\n",
    "    \"\"\"Saves user interactions to feedback.csv.\"\"\"\n",
    "    feedback_file = \"feedback.csv\"\n",
    "    feedback_data = {\"Question\": [question], \"Answer\": [answer]}\n",
    "    df = pd.DataFrame(feedback_data)\n",
    "    if os.path.exists(feedback_file):\n",
    "        df.to_csv(feedback_file, mode='a', header=False, index=False)\n",
    "    else:\n",
    "        df.to_csv(feedback_file, index=False)\n"
   ]
  },
  {
   "cell_type": "code",
   "execution_count": 9,
   "id": "c6ee8996",
   "metadata": {},
   "outputs": [
    {
     "data": {
      "application/vnd.jupyter.widget-view+json": {
       "model_id": "5174b279612f419e8c96df393eea7107",
       "version_major": 2,
       "version_minor": 0
      },
      "text/plain": [
       "VBox(children=(Output(), Text(value='', placeholder='Ask about workouts, dryland, pace, or injuries...'), Butt…"
      ]
     },
     "metadata": {},
     "output_type": "display_data"
    }
   ],
   "source": [
    "# ========================== INTERACTIVE CHAT ==========================\n",
    "\n",
    "chat_history = widgets.Output()\n",
    "\n",
    "def display_message(user: str, message: str, is_user: bool = True):\n",
    "    \"\"\"Formats and displays messages in the chat interface.\"\"\"\n",
    "    style = \"text-align: right; color: blue;\" if is_user else \"text-align: left; color: green;\"\n",
    "    with chat_history:\n",
    "        display(HTML(f\"<div style='{style}'><b>{user}:</b> {message}</div>\"))\n",
    "\n",
    "input_box = widgets.Text(placeholder=\"Ask about workouts, dryland, pace, or injuries...\")\n",
    "send_button = widgets.Button(description=\"Send\", button_style='info')\n",
    "\n",
    "def handle_input(_):\n",
    "    \"\"\"Processes user input and routes to the right function.\"\"\"\n",
    "    user_input = input_box.value.lower()\n",
    "    response = \"I’ll get back to you on that!\"\n",
    "\n",
    "    if \"swim workout\" in user_input:\n",
    "        response = generate_swim_workout(\"freestyle\", 60, \"high\")\n",
    "    elif \"dryland\" in user_input:\n",
    "        response = generate_dryland_workout(\"strength\")\n",
    "    elif \"pace\" in user_input:\n",
    "        response = analyze_pace([32, 34, 33, 35])\n",
    "    elif \"injury\" in user_input:\n",
    "        response = injury_advice(\"shoulder pain\")\n",
    "\n",
    "    display_message(\"You\", input_box.value)\n",
    "    display_message(\"Hydro_chat\", response, is_user=False)\n",
    "    save_feedback(input_box.value, response)\n",
    "    input_box.value = \"\"\n",
    "\n",
    "send_button.on_click(handle_input)\n",
    "\n",
    "# Layout for the UI\n",
    "chat_ui = widgets.VBox([chat_history, input_box, send_button])\n",
    "display(chat_ui)\n"
   ]
  },
  {
   "cell_type": "code",
   "execution_count": null,
   "id": "feeed1eb",
   "metadata": {},
   "outputs": [],
   "source": []
  }
 ],
 "metadata": {
  "kernelspec": {
   "display_name": "Python 3 (ipykernel)",
   "language": "python",
   "name": "python3"
  },
  "language_info": {
   "codemirror_mode": {
    "name": "ipython",
    "version": 3
   },
   "file_extension": ".py",
   "mimetype": "text/x-python",
   "name": "python",
   "nbconvert_exporter": "python",
   "pygments_lexer": "ipython3",
   "version": "3.12.0"
  }
 },
 "nbformat": 4,
 "nbformat_minor": 5
}
