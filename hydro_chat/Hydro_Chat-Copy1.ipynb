{
 "cells": [
  {
   "cell_type": "code",
   "execution_count": 1,
   "id": "4e1ae52f",
   "metadata": {},
   "outputs": [],
   "source": [
    "import pandas as pd\n",
    "import os\n",
    "from IPython.display import display, HTML\n",
    "import ipywidgets as widgets"
   ]
  },
  {
   "cell_type": "code",
   "execution_count": 2,
   "id": "27fed97d",
   "metadata": {},
   "outputs": [],
   "source": [
    "# Workout data extracted from Week 5 and Week 6 sessions\n",
    "workout_data = {\n",
    "    \"Week 5 Session 1\": \"\"\"<b>Warm Up:</b>\n",
    "    - 400 Loosen\n",
    "    - 300 Pull Breathing 3/5/3/7/3/9 per 50\n",
    "    - 200 IM Kick\n",
    "    - 100 Scull\n",
    "\n",
    "    <b>Main Set:</b>\n",
    "    - 6x150 Rest20\n",
    "    - 4x(3x50 w/Fins @60\n",
    "    - 8x(2x25 1 UW/1 No Breath Free @30\n",
    "    - 200 EZ\"\"\",\n",
    "\n",
    "    \"Week 5 Session 2\": \"\"\"<b>Warm Up:</b>\n",
    "    - 500 SKIPS\n",
    "    - 6x100 IM (2 Kick, 2 Drill, 2 Swim)\n",
    "    - 6x50 Free/Back Stroke Count w/Fins @60\n",
    "\n",
    "    <b>Main Set:</b>\n",
    "    - 4x(8x25 No1 Purple10 @35\n",
    "    - 300 EZ Kick w/Fins\n",
    "    - 100 Kick/100 Swim White3 Free w/Snorkel\"\"\",\n",
    "\n",
    "    \"Week 5 Session 3\": \"\"\"<b>Warm Up:</b>\n",
    "    - 400 Loosen\n",
    "    - 4x100 as 50 Drill/50 Build\n",
    "    - 100 EZ\n",
    "\n",
    "    <b>Main Set:</b>\n",
    "    - 6x15 Green w/Parachute @60\n",
    "    - 400 Perfect Free Pink4 w/Fins\n",
    "    - 3x200 50 No Free Red6/150 Free Pink4\n",
    "    - 200 EZ\"\"\",\n",
    "\n",
    "    \"Week 6 Session 1\": \"\"\"<b>Warm Up:</b>\n",
    "    - 600 SKPS\n",
    "    - 4x100 Free Kick Descend Pink4 → Red8\n",
    "\n",
    "    <b>Main Set:</b>\n",
    "    - 6x(3x100 (100 No1 Orange9, 100 Freestyle Pink5, 100 Choice EZ)\n",
    "    - 8x25 No Breath Free\n",
    "    - 200 EZ\"\"\"\n",
    "}\n",
    "\n",
    "# Dryland training data\n",
    "dryland_data = {\n",
    "    \"Strength\": [\n",
    "        \"3x12 Push-Ups\", \"3x15 Squats\", \"3x10 Pull-Ups\", \"3x20 Lunges\"\n",
    "    ],\n",
    "    \"Core\": [\n",
    "        \"3x1 min Plank\", \"3x30s Russian Twists\", \"3x20 Leg Raises\", \"3x15 V-Ups\"\n",
    "    ],\n",
    "    \"Mobility\": [\n",
    "        \"3x15 Arm Circles\", \"3x12 Shoulder Stretch\", \"3x20 Hip Openers\", \"3x30s Hamstring Stretch\"\n",
    "    ]\n",
    "}\n",
    "\n",
    "# Injury knowledge base\n",
    "injury_knowledge = {\n",
    "    \"shoulder pain\": \"Try shoulder mobility exercises and rest. Ice packs can reduce inflammation.\",\n",
    "    \"knee pain\": \"Avoid excessive breaststroke kicks. Strengthen quadriceps and hamstrings.\",\n",
    "    \"muscle cramps\": \"Hydrate well and stretch before and after swimming.\"\n",
    "}"
   ]
  },
  {
   "cell_type": "code",
   "execution_count": 3,
   "id": "1e7dab90",
   "metadata": {},
   "outputs": [],
   "source": [
    "def get_swim_workout():\n",
    "    \"\"\"Prompt user to select a specific swim workout session.\"\"\"\n",
    "    session = input(\"Choose a swim workout session (e.g., Week 5 Session 1, Week 6 Session 1): \").strip()\n",
    "    re"
   ]
  },
  {
   "cell_type": "code",
   "execution_count": 4,
   "id": "37ea00e5",
   "metadata": {},
   "outputs": [],
   "source": [
    "def get_dryland_workout():\n",
    "    \"\"\"Prompt user to select a dryland training focus.\"\"\"\n",
    "    focus = input(\"Choose a dryland focus (Strength, Core, Mobility): \").strip().capitalize()\n",
    "    exercises = dryland_data.get(focus)\n",
    "    if exercises:\n",
    "        return f\"<b>{focus} Workout:</b><br>\" + \"<br>\".join(exercises)\n",
    "    return \"Focus not recognized. Please choose Strength, Core, or Mobility.\"\n"
   ]
  },
  {
   "cell_type": "code",
   "execution_count": 5,
   "id": "531d978f",
   "metadata": {},
   "outputs": [],
   "source": [
    "def analyze_pace(lap_times):\n",
    "    \"\"\"Prompt user for lap times and provide analysis.\"\"\"\n",
    "    avg_pace = sum(lap_times) / len(lap_times)\n",
    "    if avg_pace < 30:\n",
    "        return f\"Your average pace is {avg_pace:.2f} sec/lap. Great speed! 🥇\"\n",
    "    elif avg_pace < 40:\n",
    "        return f\"Your average pace is {avg_pace:.2f} sec/lap. Maintain consistency for better endurance. 🏊\"\n",
    "    return f\"Your average pace is {avg_pace:.2f} sec/lap. Work on speed drills to improve performance. 🏋️‍♂️\"\n"
   ]
  },
  {
   "cell_type": "code",
   "execution_count": null,
   "id": "8f72e6da",
   "metadata": {},
   "outputs": [],
   "source": [
    "def get_injury_advice():\n",
    "    \"\"\"Prompt user for injury type and provide advice.\"\"\"\n",
    "    injury = input(\"Enter the injury (e.g., shoulder pain, knee pain): \").strip().lower()\n",
    "    return injury_knowledge.get(injury, \"Consult a physiotherapist for detailed guidance.\")\n"
   ]
  },
  {
   "cell_type": "code",
   "execution_count": 6,
   "id": "268d952c",
   "metadata": {},
   "outputs": [],
   "source": [
    "def save_feedback(question, answer):\n",
    "    \"\"\"Save user interactions to feedback.csv.\"\"\"\n",
    "    feedback_file = \"feedback.csv\"\n",
    "    feedback_data = {\"Question\": [question], \"Answer\": [answer]}\n",
    "    df = pd.DataFrame(feedback_data)\n",
    "    if os.path.exists(feedback_file):\n",
    "        df.to_csv(feedback_file, mode='a', header=False, index=False)\n",
    "    else:\n",
    "        df.to_csv(feedback_file, index=False)"
   ]
  },
  {
   "cell_type": "code",
   "execution_count": 7,
   "id": "b20d02f1",
   "metadata": {},
   "outputs": [
    {
     "data": {
      "application/vnd.jupyter.widget-view+json": {
       "model_id": "33c8b3da98454e6e930e2fbe0e55992e",
       "version_major": 2,
       "version_minor": 0
      },
      "text/plain": [
       "VBox(children=(Output(), Text(value='', placeholder='Ask about workouts, dryland, pace, or injuries...'), Butt…"
      ]
     },
     "metadata": {},
     "output_type": "display_data"
    }
   ],
   "source": [
    "# Chat interface\n",
    "chat_history = widgets.Output()\n",
    "\n",
    "def display_message(user, message, is_user=True):\n",
    "    \"\"\"Display messages in the chat interface.\"\"\"\n",
    "    style = \"text-align: right; color: blue;\" if is_user else \"text-align: left; color: green;\"\n",
    "    with chat_history:\n",
    "        display(HTML(f\"<div style='{style}'><b>{user}:</b> {message}</div>\"))\n",
    "\n",
    "input_box = widgets.Text(placeholder=\"Ask about workouts, dryland, pace, or injuries...\")\n",
    "send_button = widgets.Button(description=\"Send\", button_style='info')\n",
    "\n",
    "def handle_input(_):\n",
    "    \"\"\"Route user input to the right function.\"\"\"\n",
    "    user_input = input_box.value.lower()\n",
    "    response = \"I’ll get back to you on that!\"\n",
    "\n",
    "    if \"swim workout\" in user_input:\n",
    "        response = get_swim_workout()\n",
    "    elif \"dryland\" in user_input:\n",
    "        response = get_dryland_workout()\n",
    "    elif \"pace\" in user_input:\n",
    "        response = analyze_pace([32, 34, 33, 35])\n",
    "    elif \"injury\" in user_input:\n",
    "        response = get_injury_advice()\n",
    "\n",
    "    display_message(\"You\", input_box.value)\n",
    "    display_message(\"Hydro_chat\", response, is_user=False)\n",
    "    save_feedback(input_box.value, response)\n",
    "    input_box.value = \"\"\n",
    "\n",
    "send_button.on_click(handle_input)\n",
    "\n",
    "# Layout\n",
    "chat_ui = widgets.VBox([chat_history, input_box, send_button])\n",
    "display(chat_ui)"
   ]
  },
  {
   "cell_type": "code",
   "execution_count": null,
   "id": "efaa5a6f",
   "metadata": {},
   "outputs": [],
   "source": []
  },
  {
   "cell_type": "code",
   "execution_count": null,
   "id": "feeed1eb",
   "metadata": {},
   "outputs": [],
   "source": []
  }
 ],
 "metadata": {
  "kernelspec": {
   "display_name": "Python 3",
   "language": "python",
   "name": "python3"
  },
  "language_info": {
   "codemirror_mode": {
    "name": "ipython",
    "version": 3
   },
   "file_extension": ".py",
   "mimetype": "text/x-python",
   "name": "python",
   "nbconvert_exporter": "python",
   "pygments_lexer": "ipython3",
   "version": "3.12.0"
  }
 },
 "nbformat": 4,
 "nbformat_minor": 5
}
